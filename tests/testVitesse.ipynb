{
 "cells": [
  {
   "cell_type": "code",
   "execution_count": 3,
   "metadata": {
    "collapsed": true,
    "ExecuteTime": {
     "end_time": "2023-06-15T11:19:38.571178709Z",
     "start_time": "2023-06-15T11:19:36.889229055Z"
    }
   },
   "outputs": [
    {
     "name": "stdout",
     "output_type": "stream",
     "text": [
      "\n",
      "\n"
     ]
    }
   ],
   "source": [
    "import subprocess\n",
    "\n",
    "# if (\"java.util\" in open(\"exercice/Main.java\").read()):\n",
    "#     print(\"Algorithme disqualifié car il utilise java.util\")\n",
    "# else:\n",
    "\n",
    "compile_command = ['javac', 'exercice/Main.java']\n",
    "compile_process = subprocess.Popen(compile_command, stdout=subprocess.PIPE, stderr=subprocess.PIPE)\n",
    "compile_output, compile_error = compile_process.communicate()\n",
    "\n",
    "\n",
    "\n",
    "if compile_process.returncode == 0:\n",
    "    run_command = ['java', '-javaagent:joularjx-2.0.jar','exercice/Main']\n",
    "    run_process = subprocess.Popen(run_command, stdout=subprocess.PIPE, stderr=subprocess.PIPE)\n",
    "    run_output, run_error = run_process.communicate()\n",
    "\n",
    "    print(run_output.decode())\n"
   ]
  },
  {
   "cell_type": "code",
   "execution_count": 3,
   "outputs": [
    {
     "name": "stdout",
     "output_type": "stream",
     "text": [
      "Algorithme disqualifié car il utilise java.util\n"
     ]
    }
   ],
   "source": [],
   "metadata": {
    "collapsed": false,
    "ExecuteTime": {
     "end_time": "2023-06-14T20:11:19.789868526Z",
     "start_time": "2023-06-14T20:11:19.748434396Z"
    }
   }
  }
 ],
 "metadata": {
  "kernelspec": {
   "display_name": "Python 3",
   "language": "python",
   "name": "python3"
  },
  "language_info": {
   "codemirror_mode": {
    "name": "ipython",
    "version": 2
   },
   "file_extension": ".py",
   "mimetype": "text/x-python",
   "name": "python",
   "nbconvert_exporter": "python",
   "pygments_lexer": "ipython2",
   "version": "2.7.6"
  }
 },
 "nbformat": 4,
 "nbformat_minor": 0
}
